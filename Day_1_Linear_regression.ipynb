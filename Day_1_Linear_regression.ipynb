{
  "nbformat": 4,
  "nbformat_minor": 0,
  "metadata": {
    "colab": {
      "name": "Day 1 - Linear regression.ipynb",
      "provenance": [],
      "collapsed_sections": [],
      "authorship_tag": "ABX9TyOJFSxC2X9PZwWOBP3rCEWr",
      "include_colab_link": true
    },
    "kernelspec": {
      "display_name": "Python 3",
      "name": "python3"
    },
    "language_info": {
      "name": "python"
    }
  },
  "cells": [
    {
      "cell_type": "markdown",
      "metadata": {
        "id": "view-in-github",
        "colab_type": "text"
      },
      "source": [
        "<a href=\"https://colab.research.google.com/github/ShareAndShine/Lemalabs/blob/main/Day_1_Linear_regression.ipynb\" target=\"_parent\"><img src=\"https://colab.research.google.com/assets/colab-badge.svg\" alt=\"Open In Colab\"/></a>"
      ]
    },
    {
      "cell_type": "code",
      "metadata": {
        "colab": {
          "base_uri": "https://localhost:8080/"
        },
        "id": "yF6BodmP6qZy",
        "outputId": "1ca61df9-99dd-4ffd-c3cc-db43586f1040"
      },
      "source": [
        "from google.colab import drive\n",
        "drive.mount('/gdrive')"
      ],
      "execution_count": 64,
      "outputs": [
        {
          "output_type": "stream",
          "name": "stdout",
          "text": [
            "Drive already mounted at /gdrive; to attempt to forcibly remount, call drive.mount(\"/gdrive\", force_remount=True).\n"
          ]
        }
      ]
    },
    {
      "cell_type": "code",
      "metadata": {
        "id": "cM9fgtCP7PBH"
      },
      "source": [
        "import numpy as np\n",
        "import pandas as pd\n",
        "import matplotlib.pyplot as plt\n",
        "%matplotlib inline"
      ],
      "execution_count": 65,
      "outputs": []
    },
    {
      "cell_type": "code",
      "metadata": {
        "id": "BukrV2tD9nWp"
      },
      "source": [
        "path = '/gdrive/My Drive/Online_ML : Aug 2021/data/'"
      ],
      "execution_count": 66,
      "outputs": []
    },
    {
      "cell_type": "code",
      "metadata": {
        "colab": {
          "base_uri": "https://localhost:8080/",
          "height": 203
        },
        "id": "he7dlOAbAkUa",
        "outputId": "e7354663-64ab-47a0-faf4-20052babd148"
      },
      "source": [
        "raw_data = pd.read_csv(path+'Chennai_house_univariate.csv');\n",
        "raw_data.head()"
      ],
      "execution_count": 67,
      "outputs": [
        {
          "output_type": "execute_result",
          "data": {
            "text/html": [
              "<div>\n",
              "<style scoped>\n",
              "    .dataframe tbody tr th:only-of-type {\n",
              "        vertical-align: middle;\n",
              "    }\n",
              "\n",
              "    .dataframe tbody tr th {\n",
              "        vertical-align: top;\n",
              "    }\n",
              "\n",
              "    .dataframe thead th {\n",
              "        text-align: right;\n",
              "    }\n",
              "</style>\n",
              "<table border=\"1\" class=\"dataframe\">\n",
              "  <thead>\n",
              "    <tr style=\"text-align: right;\">\n",
              "      <th></th>\n",
              "      <th>Size</th>\n",
              "      <th>Price</th>\n",
              "    </tr>\n",
              "  </thead>\n",
              "  <tbody>\n",
              "    <tr>\n",
              "      <th>0</th>\n",
              "      <td>721.82</td>\n",
              "      <td>1480000</td>\n",
              "    </tr>\n",
              "    <tr>\n",
              "      <th>1</th>\n",
              "      <td>543.69</td>\n",
              "      <td>830000</td>\n",
              "    </tr>\n",
              "    <tr>\n",
              "      <th>2</th>\n",
              "      <td>851.72</td>\n",
              "      <td>2060000</td>\n",
              "    </tr>\n",
              "    <tr>\n",
              "      <th>3</th>\n",
              "      <td>931.02</td>\n",
              "      <td>2410000</td>\n",
              "    </tr>\n",
              "    <tr>\n",
              "      <th>4</th>\n",
              "      <td>552.77</td>\n",
              "      <td>860000</td>\n",
              "    </tr>\n",
              "  </tbody>\n",
              "</table>\n",
              "</div>"
            ],
            "text/plain": [
              "     Size    Price\n",
              "0  721.82  1480000\n",
              "1  543.69   830000\n",
              "2  851.72  2060000\n",
              "3  931.02  2410000\n",
              "4  552.77   860000"
            ]
          },
          "metadata": {},
          "execution_count": 67
        }
      ]
    },
    {
      "cell_type": "code",
      "metadata": {
        "colab": {
          "base_uri": "https://localhost:8080/",
          "height": 203
        },
        "id": "g777iuA8Kc6A",
        "outputId": "ca418efe-e0a4-4366-977a-339129c92cdd"
      },
      "source": [
        "data = (raw_data - raw_data.mean()) / (raw_data.max() - raw_data.min())\n",
        "data.head()"
      ],
      "execution_count": 68,
      "outputs": [
        {
          "output_type": "execute_result",
          "data": {
            "text/html": [
              "<div>\n",
              "<style scoped>\n",
              "    .dataframe tbody tr th:only-of-type {\n",
              "        vertical-align: middle;\n",
              "    }\n",
              "\n",
              "    .dataframe tbody tr th {\n",
              "        vertical-align: top;\n",
              "    }\n",
              "\n",
              "    .dataframe thead th {\n",
              "        text-align: right;\n",
              "    }\n",
              "</style>\n",
              "<table border=\"1\" class=\"dataframe\">\n",
              "  <thead>\n",
              "    <tr style=\"text-align: right;\">\n",
              "      <th></th>\n",
              "      <th>Size</th>\n",
              "      <th>Price</th>\n",
              "    </tr>\n",
              "  </thead>\n",
              "  <tbody>\n",
              "    <tr>\n",
              "      <th>0</th>\n",
              "      <td>-0.054820</td>\n",
              "      <td>-0.063773</td>\n",
              "    </tr>\n",
              "    <tr>\n",
              "      <th>1</th>\n",
              "      <td>-0.158528</td>\n",
              "      <td>-0.144922</td>\n",
              "    </tr>\n",
              "    <tr>\n",
              "      <th>2</th>\n",
              "      <td>0.020808</td>\n",
              "      <td>0.008636</td>\n",
              "    </tr>\n",
              "    <tr>\n",
              "      <th>3</th>\n",
              "      <td>0.066977</td>\n",
              "      <td>0.052331</td>\n",
              "    </tr>\n",
              "    <tr>\n",
              "      <th>4</th>\n",
              "      <td>-0.153242</td>\n",
              "      <td>-0.141177</td>\n",
              "    </tr>\n",
              "  </tbody>\n",
              "</table>\n",
              "</div>"
            ],
            "text/plain": [
              "       Size     Price\n",
              "0 -0.054820 -0.063773\n",
              "1 -0.158528 -0.144922\n",
              "2  0.020808  0.008636\n",
              "3  0.066977  0.052331\n",
              "4 -0.153242 -0.141177"
            ]
          },
          "metadata": {},
          "execution_count": 68
        }
      ]
    },
    {
      "cell_type": "code",
      "metadata": {
        "colab": {
          "base_uri": "https://localhost:8080/",
          "height": 351
        },
        "id": "f644WQ1lKzh4",
        "outputId": "b117d895-2ddd-4343-f97b-40aedcddc795"
      },
      "source": [
        "data.plot(kind='scatter', x='Size',y='Price',figsize=(10,5))"
      ],
      "execution_count": 69,
      "outputs": [
        {
          "output_type": "execute_result",
          "data": {
            "text/plain": [
              "<matplotlib.axes._subplots.AxesSubplot at 0x7f4178dd0b90>"
            ]
          },
          "metadata": {},
          "execution_count": 69
        },
        {
          "output_type": "display_data",
          "data": {
            "image/png": "[encoded data removed]",
            "text/plain": [
              "<Figure size 720x360 with 1 Axes>"
            ]
          },
          "metadata": {
            "needs_background": "light"
          }
        }
      ]
    },
    {
      "cell_type": "code",
      "metadata": {
        "colab": {
          "base_uri": "https://localhost:8080/"
        },
        "id": "gpvjARqUSObN",
        "outputId": "1d23d8ac-4977-4ed3-e9dc-3a7a33c74a35"
      },
      "source": [
        "data.shape"
      ],
      "execution_count": 70,
      "outputs": [
        {
          "output_type": "execute_result",
          "data": {
            "text/plain": [
              "(97, 2)"
            ]
          },
          "metadata": {},
          "execution_count": 70
        }
      ]
    },
    {
      "cell_type": "code",
      "metadata": {
        "colab": {
          "base_uri": "https://localhost:8080/",
          "height": 203
        },
        "id": "31ELXklLYeql",
        "outputId": "390045c4-7791-47c9-cc5c-605237d3ae99"
      },
      "source": [
        "data.insert(0,'Ones',1)\n",
        "data.head()"
      ],
      "execution_count": 71,
      "outputs": [
        {
          "output_type": "execute_result",
          "data": {
            "text/html": [
              "<div>\n",
              "<style scoped>\n",
              "    .dataframe tbody tr th:only-of-type {\n",
              "        vertical-align: middle;\n",
              "    }\n",
              "\n",
              "    .dataframe tbody tr th {\n",
              "        vertical-align: top;\n",
              "    }\n",
              "\n",
              "    .dataframe thead th {\n",
              "        text-align: right;\n",
              "    }\n",
              "</style>\n",
              "<table border=\"1\" class=\"dataframe\">\n",
              "  <thead>\n",
              "    <tr style=\"text-align: right;\">\n",
              "      <th></th>\n",
              "      <th>Ones</th>\n",
              "      <th>Size</th>\n",
              "      <th>Price</th>\n",
              "    </tr>\n",
              "  </thead>\n",
              "  <tbody>\n",
              "    <tr>\n",
              "      <th>0</th>\n",
              "      <td>1</td>\n",
              "      <td>-0.054820</td>\n",
              "      <td>-0.063773</td>\n",
              "    </tr>\n",
              "    <tr>\n",
              "      <th>1</th>\n",
              "      <td>1</td>\n",
              "      <td>-0.158528</td>\n",
              "      <td>-0.144922</td>\n",
              "    </tr>\n",
              "    <tr>\n",
              "      <th>2</th>\n",
              "      <td>1</td>\n",
              "      <td>0.020808</td>\n",
              "      <td>0.008636</td>\n",
              "    </tr>\n",
              "    <tr>\n",
              "      <th>3</th>\n",
              "      <td>1</td>\n",
              "      <td>0.066977</td>\n",
              "      <td>0.052331</td>\n",
              "    </tr>\n",
              "    <tr>\n",
              "      <th>4</th>\n",
              "      <td>1</td>\n",
              "      <td>-0.153242</td>\n",
              "      <td>-0.141177</td>\n",
              "    </tr>\n",
              "  </tbody>\n",
              "</table>\n",
              "</div>"
            ],
            "text/plain": [
              "   Ones      Size     Price\n",
              "0     1 -0.054820 -0.063773\n",
              "1     1 -0.158528 -0.144922\n",
              "2     1  0.020808  0.008636\n",
              "3     1  0.066977  0.052331\n",
              "4     1 -0.153242 -0.141177"
            ]
          },
          "metadata": {},
          "execution_count": 71
        }
      ]
    },
    {
      "cell_type": "code",
      "metadata": {
        "colab": {
          "base_uri": "https://localhost:8080/",
          "height": 203
        },
        "id": "4FK5A-fyYtKC",
        "outputId": "d3f095ff-4eff-4315-e906-07d14d53052e"
      },
      "source": [
        "data.head()"
      ],
      "execution_count": 72,
      "outputs": [
        {
          "output_type": "execute_result",
          "data": {
            "text/html": [
              "<div>\n",
              "<style scoped>\n",
              "    .dataframe tbody tr th:only-of-type {\n",
              "        vertical-align: middle;\n",
              "    }\n",
              "\n",
              "    .dataframe tbody tr th {\n",
              "        vertical-align: top;\n",
              "    }\n",
              "\n",
              "    .dataframe thead th {\n",
              "        text-align: right;\n",
              "    }\n",
              "</style>\n",
              "<table border=\"1\" class=\"dataframe\">\n",
              "  <thead>\n",
              "    <tr style=\"text-align: right;\">\n",
              "      <th></th>\n",
              "      <th>Ones</th>\n",
              "      <th>Size</th>\n",
              "      <th>Price</th>\n",
              "    </tr>\n",
              "  </thead>\n",
              "  <tbody>\n",
              "    <tr>\n",
              "      <th>0</th>\n",
              "      <td>1</td>\n",
              "      <td>-0.054820</td>\n",
              "      <td>-0.063773</td>\n",
              "    </tr>\n",
              "    <tr>\n",
              "      <th>1</th>\n",
              "      <td>1</td>\n",
              "      <td>-0.158528</td>\n",
              "      <td>-0.144922</td>\n",
              "    </tr>\n",
              "    <tr>\n",
              "      <th>2</th>\n",
              "      <td>1</td>\n",
              "      <td>0.020808</td>\n",
              "      <td>0.008636</td>\n",
              "    </tr>\n",
              "    <tr>\n",
              "      <th>3</th>\n",
              "      <td>1</td>\n",
              "      <td>0.066977</td>\n",
              "      <td>0.052331</td>\n",
              "    </tr>\n",
              "    <tr>\n",
              "      <th>4</th>\n",
              "      <td>1</td>\n",
              "      <td>-0.153242</td>\n",
              "      <td>-0.141177</td>\n",
              "    </tr>\n",
              "  </tbody>\n",
              "</table>\n",
              "</div>"
            ],
            "text/plain": [
              "   Ones      Size     Price\n",
              "0     1 -0.054820 -0.063773\n",
              "1     1 -0.158528 -0.144922\n",
              "2     1  0.020808  0.008636\n",
              "3     1  0.066977  0.052331\n",
              "4     1 -0.153242 -0.141177"
            ]
          },
          "metadata": {},
          "execution_count": 72
        }
      ]
    },
    {
      "cell_type": "code",
      "metadata": {
        "id": "SR8ofri6Yv-Z"
      },
      "source": [
        "cols = data.shape[1] # gives you total column size. In our case raw data has  2 columns (size and prize)\n",
        "#print(cols)\n",
        "x = data.iloc[:, 0:cols-1] # scan all rows and column 1\n",
        "y = data.iloc[:, cols-1:cols] #scan all rows and column 2"
      ],
      "execution_count": 73,
      "outputs": []
    },
    {
      "cell_type": "code",
      "metadata": {
        "id": "zhlzC1LdZSZR"
      },
      "source": [
        "x = np.matrix(x) # create matrix for size\n",
        "y = np.matrix(y) # create matrix for prize\n",
        "theta = np.matrix([0,0]) "
      ],
      "execution_count": 74,
      "outputs": []
    },
    {
      "cell_type": "code",
      "metadata": {
        "colab": {
          "base_uri": "https://localhost:8080/"
        },
        "id": "OGucPSl1ZsBG",
        "outputId": "85c9509c-0adf-49e5-8877-dedc2c57b404"
      },
      "source": [
        "x.shape, y.shape, theta.shape"
      ],
      "execution_count": 75,
      "outputs": [
        {
          "output_type": "execute_result",
          "data": {
            "text/plain": [
              "((97, 2), (97, 1), (1, 2))"
            ]
          },
          "metadata": {},
          "execution_count": 75
        }
      ]
    },
    {
      "cell_type": "code",
      "metadata": {
        "id": "E0byvb2IcF9r"
      },
      "source": [
        "def computeError(x,y,theta):\n",
        "  inner = np.power(((x*theta.T)-y),2) \n",
        "  return np.sum(inner)/(2 * len(x))"
      ],
      "execution_count": 76,
      "outputs": []
    },
    {
      "cell_type": "code",
      "metadata": {
        "colab": {
          "base_uri": "https://localhost:8080/"
        },
        "id": "Z9MV4byVcp08",
        "outputId": "d37c190f-1b76-4ccb-aa2c-a3f32a15ec67"
      },
      "source": [
        "computeError(x,y,theta)"
      ],
      "execution_count": 77,
      "outputs": [
        {
          "output_type": "execute_result",
          "data": {
            "text/plain": [
              "0.024346853685025285"
            ]
          },
          "metadata": {},
          "execution_count": 77
        }
      ]
    },
    {
      "cell_type": "code",
      "metadata": {
        "id": "t-kfng07xENC"
      },
      "source": [
        "learn_rate = 1 \n",
        "iters = 150\n",
        "def gradientDescent(x,y,theta,learn_rate,iters):\n",
        "  temp = np.matrix(np.zeros(theta.shape))\n",
        "  parameters = theta.shape[1] \n",
        "  #print(x) # Raw data which contains size input in col 2 and in col 0 hard coded value of 1\n",
        "  #print(y) # Raw data which contains prize output in col 1 \n",
        "  #print(theta.T) # Raw data containing hardedcoded zeros 1 X 2 matrix\n",
        "  #print(parameters) #refers to column in theta matrix (1 X 2) - O/P = 2\n",
        "  cost = []\n",
        "  for i in range(iters):\n",
        "    #print(x*theta.T)\n",
        "    error = (x * theta.T) -y \n",
        "    #print(\"Printing Error !!!!\")\n",
        "    #print(error) \n",
        "    for j in range(parameters):\n",
        "      #print(\"I am inside j\")\n",
        "      #print(x[:,j])\n",
        "      gradient = np.multiply(error, x[:,j])\n",
        "      #print(gradient)\n",
        "      temp[0,j] = theta[0,j] - ( (learn_rate/len(x)) * np.sum(gradient))\n",
        "      #print(temp[0,j])\n",
        "    \n",
        "    theta = temp\n",
        "    cost_iter = computeError(x,y,theta)\n",
        "    cost.append(cost_iter)\n",
        "\n",
        "  return theta, cost\n",
        "\n"
      ],
      "execution_count": 99,
      "outputs": []
    },
    {
      "cell_type": "code",
      "metadata": {
        "id": "jEyXePy-zio5"
      },
      "source": [
        "new_theta,cost = gradientDescent(x,y,theta, learn_rate, iters)"
      ],
      "execution_count": 100,
      "outputs": []
    },
    {
      "cell_type": "code",
      "metadata": {
        "colab": {
          "base_uri": "https://localhost:8080/"
        },
        "id": "N1IxRZbq0BGj",
        "outputId": "55c0a1ba-a21a-4af1-9da9-1d39c185cb10"
      },
      "source": [
        "print(new_theta)"
      ],
      "execution_count": 101,
      "outputs": [
        {
          "output_type": "stream",
          "name": "stdout",
          "text": [
            "[[2.72405237e-16 9.82955251e-01]]\n"
          ]
        }
      ]
    },
    {
      "cell_type": "code",
      "metadata": {
        "colab": {
          "base_uri": "https://localhost:8080/"
        },
        "id": "yQXMxxI80MMo",
        "outputId": "ad1ff36e-2a0d-48d7-dcfb-8a73b78f908b"
      },
      "source": [
        "print(cost)"
      ],
      "execution_count": 103,
      "outputs": [
        {
          "output_type": "stream",
          "name": "stdout",
          "text": [
            "[0.0219673183380595, 0.019820870807582117, 0.017884678934253863, 0.016138147087044627, 0.014562697083697286, 0.01314157057116722, 0.011859650763921774, 0.01070330164389687, 0.009660222911651065, 0.008719319145805603, 0.007870581778995266, 0.0071049826348863416, 0.006414377893795337, 0.005791421465372894, 0.005229486846882187, 0.0047225966358638285, 0.004265358947400457, 0.0038529100596397235, 0.0034808626774854535, 0.0031452592641283447, 0.0028425299439950274, 0.0025694545293213898, 0.002323128266419802, 0.0021009309372769366, 0.0019004989878101933, 0.0017197003863058103, 0.0015566119446032342, 0.0014094988607869883, 0.0012767962657778643, 0.0011570925775311307, 0.0010491144857772655, 0.0009517134075851379, 0.0008638532696729556, 0.0007845994875051558, 0.0007131090239438623, 0.0006486214217069421, 0.0005904507142432565, 0.0005379781289795985, 0.0004906455053223957, 0.00044794935740025273, 0.0004094355183916245, 0.0003746943094683421, 0.0003433561819661532, 0.0003150877864272378, 0.0002895884267003767, 0.0002665868613803793, 0.00024583841856309636, 0.0002271223932251259, 0.000210239699543662, 0.00019501075318378028, 0.00018127356102665503, 0.00016888199801879563, 0.0001577042528128291, 0.00014762142566582116, 0.00013852626368072063, 0.0001303220199374605, 0.00012292142437807496, 0.00011624575549895528, 0.00011022400297565601, 0.00010479211231294183, 9.989230348527589e-05, 9.547245632000236e-05, 9.148555608543091e-05, 8.78891933864411e-05, 8.464511304790329e-05, 8.171880718730574e-05, 7.907914814802726e-05, 7.669805738869626e-05, 7.455020680655387e-05, 7.261274931774104e-05, 7.086507582864155e-05, 6.928859601314252e-05, 6.786654056389663e-05, 6.658378281409994e-05, 6.542667783233844e-05, 6.438291727892952e-05, 6.344139847983659e-05, 6.259210632547207e-05, 6.182600673812441e-05, 6.113495057480293e-05, 6.0511586943296467e-05, 5.994928500937365e-05, 5.944206346337299e-05, 5.8984526895905605e-05, 5.8571808405887945e-05, 5.81995178304147e-05, 5.786369504578432e-05, 5.756076784293049e-05, 5.728751392917421e-05, 5.704102665210002e-05, 5.681868408095698e-05, 5.661812111669658e-05, 5.643720433397639e-05, 5.627400928752038e-05, 5.612680004143869e-05, 5.5994010703756294e-05, 5.5874228769730557e-05, 5.576618009677715e-05, 5.566871535117971e-05, 5.558079778241444e-05, 5.5501492195043155e-05, 5.5429955000866535e-05, 5.5365425245520196e-05, 5.530721651406255e-05, 5.525470962945208e-05, 5.520734606624692e-05, 5.516462200946577e-05, 5.512608299541551e-05, 5.5091319077476394e-05, 5.505996046542409e-05, 5.503167359190289e-05, 5.5006157564207865e-05, 5.4983140963633546e-05, 5.496237895834298e-05, 5.494365069904626e-05, 5.4926756969785725e-05, 5.49115180688389e-05, 5.489777189719822e-05, 5.488537223429374e-05, 5.4874187182618015e-05, 5.4864097764707776e-05, 5.485499665755888e-05, 5.4846787051011396e-05, 5.483938161796228e-05, 5.483270158545058e-05, 5.482667589673515e-05, 5.48212404554507e-05, 5.48163374438031e-05, 5.481191470755069e-05, 5.480792520123008e-05, 5.4804326487724645e-05, 5.480108028685329e-05, 5.4798152068177135e-05, 5.479551068369245e-05, 5.4793128036504036e-05, 5.4790978781953127e-05, 5.4789040058021536e-05, 5.478729124214428e-05, 5.4785713731843516e-05, 5.478429074685033e-05, 5.478300715061027e-05, 5.478184928927267e-05, 5.478080484645241e-05, 5.477986271221806e-05, 5.477901286491347e-05, 5.4778246264555775e-05, 5.4777554756675135e-05, 5.477693098557441e-05, 5.4776368316084946e-05, 5.4775860762987386e-05]\n"
          ]
        }
      ]
    },
    {
      "cell_type": "code",
      "metadata": {
        "id": "48e8Ihwl9rde"
      },
      "source": [
        "model_price = x * new_theta.T\n",
        "#print(model_price)"
      ],
      "execution_count": 108,
      "outputs": []
    },
    {
      "cell_type": "code",
      "metadata": {
        "colab": {
          "base_uri": "https://localhost:8080/",
          "height": 421
        },
        "id": "rK9mIMPU903L",
        "outputId": "b5cfa662-4bec-43df-94b1-09b79e8b2d54"
      },
      "source": [
        "fig,ax = plt.subplots(figsize=(20,6))\n",
        "ax.plot(data.Size,model_price,'r', label=\"Final_model\")\n",
        "#ax.plot(data.Size,data.Price,'b',label=\"Training Data\")\n",
        "ax.scatter(data.Size,data.Price, label=\"Training Data\")\n",
        "ax.legend()\n",
        "ax.set_xlabel('Size')\n",
        "ax.set_ylabel('Price')\n",
        "ax.set_title('Final vs Training data')"
      ],
      "execution_count": 114,
      "outputs": [
        {
          "output_type": "execute_result",
          "data": {
            "text/plain": [
              "Text(0.5, 1.0, 'Final vs Training data')"
            ]
          },
          "metadata": {},
          "execution_count": 114
        },
        {
          "output_type": "display_data",
          "data": {
            "image/png": "[encoded data removed]",
            "text/plain": [
              "<Figure size 1440x432 with 1 Axes>"
            ]
          },
          "metadata": {
            "needs_background": "light"
          }
        }
      ]
    }
  ]
}