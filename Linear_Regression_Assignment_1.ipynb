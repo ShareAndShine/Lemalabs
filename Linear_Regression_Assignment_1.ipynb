{
  "nbformat": 4,
  "nbformat_minor": 0,
  "metadata": {
    "colab": {
      "name": "Linear Regression - Assignment - 1.ipynb",
      "provenance": [],
      "collapsed_sections": [],
      "authorship_tag": "ABX9TyPej+mbT612poKfgXiA6Xxr",
      "include_colab_link": true
    },
    "kernelspec": {
      "name": "python3",
      "display_name": "Python 3"
    },
    "language_info": {
      "name": "python"
    }
  },
  "cells": [
    {
      "cell_type": "markdown",
      "metadata": {
        "id": "view-in-github",
        "colab_type": "text"
      },
      "source": [
        "<a href=\"https://colab.research.google.com/github/ShareAndShine/Lemalabs/blob/main/Linear_Regression_Assignment_1.ipynb\" target=\"_parent\"><img src=\"https://colab.research.google.com/assets/colab-badge.svg\" alt=\"Open In Colab\"/></a>"
      ]
    },
    {
      "cell_type": "code",
      "metadata": {
        "colab": {
          "base_uri": "https://localhost:8080/"
        },
        "id": "IrV6D8Kz6D9x",
        "outputId": "e16f092c-b856-4eef-e821-d4f8f3168c98"
      },
      "source": [
        "from google.colab import drive\n",
        "drive.mount('/gdrive')"
      ],
      "execution_count": 2,
      "outputs": [
        {
          "output_type": "stream",
          "name": "stdout",
          "text": [
            "Mounted at /gdrive\n"
          ]
        }
      ]
    },
    {
      "cell_type": "code",
      "metadata": {
        "id": "ed6VMVPs6D9z"
      },
      "source": [
        "import numpy as np\n",
        "import pandas as pd\n",
        "import matplotlib.pyplot as plt\n",
        "%matplotlib inline"
      ],
      "execution_count": 3,
      "outputs": []
    },
    {
      "cell_type": "code",
      "metadata": {
        "id": "_MGWAvfg6O4K"
      },
      "source": [
        "path = '/gdrive/My Drive/Online_ML : Aug 2021/Assignments/data/'"
      ],
      "execution_count": 4,
      "outputs": []
    },
    {
      "cell_type": "code",
      "metadata": {
        "colab": {
          "base_uri": "https://localhost:8080/",
          "height": 223
        },
        "id": "zAI_xprP6Y0M",
        "outputId": "fda4387f-df4e-4797-896b-2cb6a175352e"
      },
      "source": [
        "raw_data = pd.read_csv(path+'chennai_house_multivariate_train.csv');\n",
        "#raw_data = pd.read_csv(path+'chennai_house_multivariate_test.csv');\n",
        "raw_data.head()"
      ],
      "execution_count": 5,
      "outputs": [
        {
          "output_type": "execute_result",
          "data": {
            "text/html": [
              "<div>\n",
              "<style scoped>\n",
              "    .dataframe tbody tr th:only-of-type {\n",
              "        vertical-align: middle;\n",
              "    }\n",
              "\n",
              "    .dataframe tbody tr th {\n",
              "        vertical-align: top;\n",
              "    }\n",
              "\n",
              "    .dataframe thead th {\n",
              "        text-align: right;\n",
              "    }\n",
              "</style>\n",
              "<table border=\"1\" class=\"dataframe\">\n",
              "  <thead>\n",
              "    <tr style=\"text-align: right;\">\n",
              "      <th></th>\n",
              "      <th>AreaCode</th>\n",
              "      <th>INT_SQFT</th>\n",
              "      <th>DIST_MAINROAD</th>\n",
              "      <th>N_BEDROOM</th>\n",
              "      <th>N_BATHROOM</th>\n",
              "      <th>OTHER_ROOMS</th>\n",
              "      <th>PARK_FACILITY</th>\n",
              "      <th>BUILDINGTYPE</th>\n",
              "      <th>UTILITY_AVAIL</th>\n",
              "      <th>STREET</th>\n",
              "      <th>MZZONE</th>\n",
              "      <th>QS_ROOMS</th>\n",
              "      <th>QS_BATHROOM</th>\n",
              "      <th>QS_BEDROOM</th>\n",
              "      <th>REG_FEE</th>\n",
              "      <th>COMMIS</th>\n",
              "      <th>SALES_PRICE</th>\n",
              "    </tr>\n",
              "  </thead>\n",
              "  <tbody>\n",
              "    <tr>\n",
              "      <th>0</th>\n",
              "      <td>4</td>\n",
              "      <td>1004</td>\n",
              "      <td>131</td>\n",
              "      <td>1</td>\n",
              "      <td>1</td>\n",
              "      <td>1</td>\n",
              "      <td>1</td>\n",
              "      <td>1</td>\n",
              "      <td>1</td>\n",
              "      <td>2</td>\n",
              "      <td>1</td>\n",
              "      <td>4.0</td>\n",
              "      <td>3.9</td>\n",
              "      <td>4.9</td>\n",
              "      <td>380000</td>\n",
              "      <td>144400</td>\n",
              "      <td>7600000</td>\n",
              "    </tr>\n",
              "    <tr>\n",
              "      <th>1</th>\n",
              "      <td>2</td>\n",
              "      <td>1986</td>\n",
              "      <td>26</td>\n",
              "      <td>2</td>\n",
              "      <td>1</td>\n",
              "      <td>2</td>\n",
              "      <td>0</td>\n",
              "      <td>1</td>\n",
              "      <td>1</td>\n",
              "      <td>1</td>\n",
              "      <td>4</td>\n",
              "      <td>4.9</td>\n",
              "      <td>4.2</td>\n",
              "      <td>2.5</td>\n",
              "      <td>760122</td>\n",
              "      <td>304049</td>\n",
              "      <td>21717770</td>\n",
              "    </tr>\n",
              "    <tr>\n",
              "      <th>2</th>\n",
              "      <td>1</td>\n",
              "      <td>909</td>\n",
              "      <td>70</td>\n",
              "      <td>1</td>\n",
              "      <td>1</td>\n",
              "      <td>1</td>\n",
              "      <td>1</td>\n",
              "      <td>1</td>\n",
              "      <td>2</td>\n",
              "      <td>1</td>\n",
              "      <td>5</td>\n",
              "      <td>4.1</td>\n",
              "      <td>3.8</td>\n",
              "      <td>2.2</td>\n",
              "      <td>421094</td>\n",
              "      <td>92114</td>\n",
              "      <td>13159200</td>\n",
              "    </tr>\n",
              "    <tr>\n",
              "      <th>3</th>\n",
              "      <td>7</td>\n",
              "      <td>1855</td>\n",
              "      <td>14</td>\n",
              "      <td>3</td>\n",
              "      <td>2</td>\n",
              "      <td>0</td>\n",
              "      <td>0</td>\n",
              "      <td>3</td>\n",
              "      <td>3</td>\n",
              "      <td>2</td>\n",
              "      <td>3</td>\n",
              "      <td>4.7</td>\n",
              "      <td>3.9</td>\n",
              "      <td>3.6</td>\n",
              "      <td>356321</td>\n",
              "      <td>77042</td>\n",
              "      <td>9630290</td>\n",
              "    </tr>\n",
              "    <tr>\n",
              "      <th>4</th>\n",
              "      <td>4</td>\n",
              "      <td>1226</td>\n",
              "      <td>84</td>\n",
              "      <td>1</td>\n",
              "      <td>1</td>\n",
              "      <td>1</td>\n",
              "      <td>1</td>\n",
              "      <td>3</td>\n",
              "      <td>1</td>\n",
              "      <td>1</td>\n",
              "      <td>2</td>\n",
              "      <td>3.0</td>\n",
              "      <td>2.5</td>\n",
              "      <td>4.1</td>\n",
              "      <td>237000</td>\n",
              "      <td>74063</td>\n",
              "      <td>7406250</td>\n",
              "    </tr>\n",
              "  </tbody>\n",
              "</table>\n",
              "</div>"
            ],
            "text/plain": [
              "   AreaCode  INT_SQFT  DIST_MAINROAD  ...  REG_FEE  COMMIS  SALES_PRICE\n",
              "0         4      1004            131  ...   380000  144400      7600000\n",
              "1         2      1986             26  ...   760122  304049     21717770\n",
              "2         1       909             70  ...   421094   92114     13159200\n",
              "3         7      1855             14  ...   356321   77042      9630290\n",
              "4         4      1226             84  ...   237000   74063      7406250\n",
              "\n",
              "[5 rows x 17 columns]"
            ]
          },
          "metadata": {},
          "execution_count": 5
        }
      ]
    },
    {
      "cell_type": "code",
      "metadata": {
        "colab": {
          "base_uri": "https://localhost:8080/",
          "height": 223
        },
        "id": "-ATqOtSG6nN1",
        "outputId": "b273b671-159c-4d07-93bf-b672c273baf5"
      },
      "source": [
        "data = (raw_data - raw_data.mean()) / (raw_data.max() - raw_data.min())\n",
        "data.head()"
      ],
      "execution_count": 6,
      "outputs": [
        {
          "output_type": "execute_result",
          "data": {
            "text/html": [
              "<div>\n",
              "<style scoped>\n",
              "    .dataframe tbody tr th:only-of-type {\n",
              "        vertical-align: middle;\n",
              "    }\n",
              "\n",
              "    .dataframe tbody tr th {\n",
              "        vertical-align: top;\n",
              "    }\n",
              "\n",
              "    .dataframe thead th {\n",
              "        text-align: right;\n",
              "    }\n",
              "</style>\n",
              "<table border=\"1\" class=\"dataframe\">\n",
              "  <thead>\n",
              "    <tr style=\"text-align: right;\">\n",
              "      <th></th>\n",
              "      <th>AreaCode</th>\n",
              "      <th>INT_SQFT</th>\n",
              "      <th>DIST_MAINROAD</th>\n",
              "      <th>N_BEDROOM</th>\n",
              "      <th>N_BATHROOM</th>\n",
              "      <th>OTHER_ROOMS</th>\n",
              "      <th>PARK_FACILITY</th>\n",
              "      <th>BUILDINGTYPE</th>\n",
              "      <th>UTILITY_AVAIL</th>\n",
              "      <th>STREET</th>\n",
              "      <th>MZZONE</th>\n",
              "      <th>QS_ROOMS</th>\n",
              "      <th>QS_BATHROOM</th>\n",
              "      <th>QS_BEDROOM</th>\n",
              "      <th>REG_FEE</th>\n",
              "      <th>COMMIS</th>\n",
              "      <th>SALES_PRICE</th>\n",
              "    </tr>\n",
              "  </thead>\n",
              "  <tbody>\n",
              "    <tr>\n",
              "      <th>0</th>\n",
              "      <td>0.018003</td>\n",
              "      <td>-0.188889</td>\n",
              "      <td>0.157498</td>\n",
              "      <td>-0.211313</td>\n",
              "      <td>-0.214536</td>\n",
              "      <td>0.081264</td>\n",
              "      <td>0.492415</td>\n",
              "      <td>-0.499333</td>\n",
              "      <td>-0.624771</td>\n",
              "      <td>0.458243</td>\n",
              "      <td>-0.661577</td>\n",
              "      <td>0.157182</td>\n",
              "      <td>0.132033</td>\n",
              "      <td>0.473190</td>\n",
              "      <td>0.002950</td>\n",
              "      <td>0.007290</td>\n",
              "      <td>-0.153105</td>\n",
              "    </tr>\n",
              "    <tr>\n",
              "      <th>1</th>\n",
              "      <td>-0.315330</td>\n",
              "      <td>0.302356</td>\n",
              "      <td>-0.367502</td>\n",
              "      <td>0.122020</td>\n",
              "      <td>-0.214536</td>\n",
              "      <td>0.581264</td>\n",
              "      <td>-0.507585</td>\n",
              "      <td>-0.499333</td>\n",
              "      <td>-0.624771</td>\n",
              "      <td>-0.041757</td>\n",
              "      <td>-0.061577</td>\n",
              "      <td>0.457182</td>\n",
              "      <td>0.232033</td>\n",
              "      <td>-0.326810</td>\n",
              "      <td>0.419410</td>\n",
              "      <td>0.332871</td>\n",
              "      <td>0.503216</td>\n",
              "    </tr>\n",
              "    <tr>\n",
              "      <th>2</th>\n",
              "      <td>-0.481997</td>\n",
              "      <td>-0.236413</td>\n",
              "      <td>-0.147502</td>\n",
              "      <td>-0.211313</td>\n",
              "      <td>-0.214536</td>\n",
              "      <td>0.081264</td>\n",
              "      <td>0.492415</td>\n",
              "      <td>-0.499333</td>\n",
              "      <td>-0.124771</td>\n",
              "      <td>-0.041757</td>\n",
              "      <td>0.138423</td>\n",
              "      <td>0.190515</td>\n",
              "      <td>0.098700</td>\n",
              "      <td>-0.426810</td>\n",
              "      <td>0.047972</td>\n",
              "      <td>-0.099340</td>\n",
              "      <td>0.105336</td>\n",
              "    </tr>\n",
              "    <tr>\n",
              "      <th>3</th>\n",
              "      <td>0.518003</td>\n",
              "      <td>0.236824</td>\n",
              "      <td>-0.427502</td>\n",
              "      <td>0.455354</td>\n",
              "      <td>0.785464</td>\n",
              "      <td>-0.418736</td>\n",
              "      <td>-0.507585</td>\n",
              "      <td>0.500667</td>\n",
              "      <td>0.375229</td>\n",
              "      <td>0.458243</td>\n",
              "      <td>-0.261577</td>\n",
              "      <td>0.390515</td>\n",
              "      <td>0.132033</td>\n",
              "      <td>0.039857</td>\n",
              "      <td>-0.022993</td>\n",
              "      <td>-0.130078</td>\n",
              "      <td>-0.058719</td>\n",
              "    </tr>\n",
              "    <tr>\n",
              "      <th>4</th>\n",
              "      <td>0.018003</td>\n",
              "      <td>-0.077834</td>\n",
              "      <td>-0.077502</td>\n",
              "      <td>-0.211313</td>\n",
              "      <td>-0.214536</td>\n",
              "      <td>0.081264</td>\n",
              "      <td>0.492415</td>\n",
              "      <td>0.500667</td>\n",
              "      <td>-0.624771</td>\n",
              "      <td>-0.041757</td>\n",
              "      <td>-0.461577</td>\n",
              "      <td>-0.176152</td>\n",
              "      <td>-0.334634</td>\n",
              "      <td>0.206523</td>\n",
              "      <td>-0.153721</td>\n",
              "      <td>-0.136153</td>\n",
              "      <td>-0.162112</td>\n",
              "    </tr>\n",
              "  </tbody>\n",
              "</table>\n",
              "</div>"
            ],
            "text/plain": [
              "   AreaCode  INT_SQFT  DIST_MAINROAD  ...   REG_FEE    COMMIS  SALES_PRICE\n",
              "0  0.018003 -0.188889       0.157498  ...  0.002950  0.007290    -0.153105\n",
              "1 -0.315330  0.302356      -0.367502  ...  0.419410  0.332871     0.503216\n",
              "2 -0.481997 -0.236413      -0.147502  ...  0.047972 -0.099340     0.105336\n",
              "3  0.518003  0.236824      -0.427502  ... -0.022993 -0.130078    -0.058719\n",
              "4  0.018003 -0.077834      -0.077502  ... -0.153721 -0.136153    -0.162112\n",
              "\n",
              "[5 rows x 17 columns]"
            ]
          },
          "metadata": {},
          "execution_count": 6
        }
      ]
    },
    {
      "cell_type": "code",
      "metadata": {
        "colab": {
          "base_uri": "https://localhost:8080/",
          "height": 352
        },
        "id": "YChVpd9p6xa0",
        "outputId": "55961960-72f7-4853-dcbc-e1bad98aee23"
      },
      "source": [
        "data.plot(kind='scatter', x='INT_SQFT',y='SALES_PRICE',figsize=(10,5))"
      ],
      "execution_count": 7,
      "outputs": [
        {
          "output_type": "execute_result",
          "data": {
            "text/plain": [
              "<matplotlib.axes._subplots.AxesSubplot at 0x7f6ca2a967d0>"
            ]
          },
          "metadata": {},
          "execution_count": 7
        },
        {
          "output_type": "display_data",
          "data": {
            "image/png": "[encoded data removed]",
            "text/plain": [
              "<Figure size 720x360 with 1 Axes>"
            ]
          },
          "metadata": {
            "needs_background": "light"
          }
        }
      ]
    },
    {
      "cell_type": "code",
      "metadata": {
        "colab": {
          "base_uri": "https://localhost:8080/"
        },
        "id": "vobmneMBUfcE",
        "outputId": "9e712ef6-7a4b-434b-dbe5-b77adf06bca0"
      },
      "source": [
        "data.shape"
      ],
      "execution_count": 8,
      "outputs": [
        {
          "output_type": "execute_result",
          "data": {
            "text/plain": [
              "(5999, 17)"
            ]
          },
          "metadata": {},
          "execution_count": 8
        }
      ]
    },
    {
      "cell_type": "code",
      "metadata": {
        "colab": {
          "base_uri": "https://localhost:8080/",
          "height": 223
        },
        "id": "ybWk8mktWj9Q",
        "outputId": "769f5977-f8fe-4dba-a462-751482a09631"
      },
      "source": [
        "data.insert(0,'Ones',1)\n",
        "data.head()"
      ],
      "execution_count": 9,
      "outputs": [
        {
          "output_type": "execute_result",
          "data": {
            "text/html": [
              "<div>\n",
              "<style scoped>\n",
              "    .dataframe tbody tr th:only-of-type {\n",
              "        vertical-align: middle;\n",
              "    }\n",
              "\n",
              "    .dataframe tbody tr th {\n",
              "        vertical-align: top;\n",
              "    }\n",
              "\n",
              "    .dataframe thead th {\n",
              "        text-align: right;\n",
              "    }\n",
              "</style>\n",
              "<table border=\"1\" class=\"dataframe\">\n",
              "  <thead>\n",
              "    <tr style=\"text-align: right;\">\n",
              "      <th></th>\n",
              "      <th>Ones</th>\n",
              "      <th>AreaCode</th>\n",
              "      <th>INT_SQFT</th>\n",
              "      <th>DIST_MAINROAD</th>\n",
              "      <th>N_BEDROOM</th>\n",
              "      <th>N_BATHROOM</th>\n",
              "      <th>OTHER_ROOMS</th>\n",
              "      <th>PARK_FACILITY</th>\n",
              "      <th>BUILDINGTYPE</th>\n",
              "      <th>UTILITY_AVAIL</th>\n",
              "      <th>STREET</th>\n",
              "      <th>MZZONE</th>\n",
              "      <th>QS_ROOMS</th>\n",
              "      <th>QS_BATHROOM</th>\n",
              "      <th>QS_BEDROOM</th>\n",
              "      <th>REG_FEE</th>\n",
              "      <th>COMMIS</th>\n",
              "      <th>SALES_PRICE</th>\n",
              "    </tr>\n",
              "  </thead>\n",
              "  <tbody>\n",
              "    <tr>\n",
              "      <th>0</th>\n",
              "      <td>1</td>\n",
              "      <td>0.018003</td>\n",
              "      <td>-0.188889</td>\n",
              "      <td>0.157498</td>\n",
              "      <td>-0.211313</td>\n",
              "      <td>-0.214536</td>\n",
              "      <td>0.081264</td>\n",
              "      <td>0.492415</td>\n",
              "      <td>-0.499333</td>\n",
              "      <td>-0.624771</td>\n",
              "      <td>0.458243</td>\n",
              "      <td>-0.661577</td>\n",
              "      <td>0.157182</td>\n",
              "      <td>0.132033</td>\n",
              "      <td>0.473190</td>\n",
              "      <td>0.002950</td>\n",
              "      <td>0.007290</td>\n",
              "      <td>-0.153105</td>\n",
              "    </tr>\n",
              "    <tr>\n",
              "      <th>1</th>\n",
              "      <td>1</td>\n",
              "      <td>-0.315330</td>\n",
              "      <td>0.302356</td>\n",
              "      <td>-0.367502</td>\n",
              "      <td>0.122020</td>\n",
              "      <td>-0.214536</td>\n",
              "      <td>0.581264</td>\n",
              "      <td>-0.507585</td>\n",
              "      <td>-0.499333</td>\n",
              "      <td>-0.624771</td>\n",
              "      <td>-0.041757</td>\n",
              "      <td>-0.061577</td>\n",
              "      <td>0.457182</td>\n",
              "      <td>0.232033</td>\n",
              "      <td>-0.326810</td>\n",
              "      <td>0.419410</td>\n",
              "      <td>0.332871</td>\n",
              "      <td>0.503216</td>\n",
              "    </tr>\n",
              "    <tr>\n",
              "      <th>2</th>\n",
              "      <td>1</td>\n",
              "      <td>-0.481997</td>\n",
              "      <td>-0.236413</td>\n",
              "      <td>-0.147502</td>\n",
              "      <td>-0.211313</td>\n",
              "      <td>-0.214536</td>\n",
              "      <td>0.081264</td>\n",
              "      <td>0.492415</td>\n",
              "      <td>-0.499333</td>\n",
              "      <td>-0.124771</td>\n",
              "      <td>-0.041757</td>\n",
              "      <td>0.138423</td>\n",
              "      <td>0.190515</td>\n",
              "      <td>0.098700</td>\n",
              "      <td>-0.426810</td>\n",
              "      <td>0.047972</td>\n",
              "      <td>-0.099340</td>\n",
              "      <td>0.105336</td>\n",
              "    </tr>\n",
              "    <tr>\n",
              "      <th>3</th>\n",
              "      <td>1</td>\n",
              "      <td>0.518003</td>\n",
              "      <td>0.236824</td>\n",
              "      <td>-0.427502</td>\n",
              "      <td>0.455354</td>\n",
              "      <td>0.785464</td>\n",
              "      <td>-0.418736</td>\n",
              "      <td>-0.507585</td>\n",
              "      <td>0.500667</td>\n",
              "      <td>0.375229</td>\n",
              "      <td>0.458243</td>\n",
              "      <td>-0.261577</td>\n",
              "      <td>0.390515</td>\n",
              "      <td>0.132033</td>\n",
              "      <td>0.039857</td>\n",
              "      <td>-0.022993</td>\n",
              "      <td>-0.130078</td>\n",
              "      <td>-0.058719</td>\n",
              "    </tr>\n",
              "    <tr>\n",
              "      <th>4</th>\n",
              "      <td>1</td>\n",
              "      <td>0.018003</td>\n",
              "      <td>-0.077834</td>\n",
              "      <td>-0.077502</td>\n",
              "      <td>-0.211313</td>\n",
              "      <td>-0.214536</td>\n",
              "      <td>0.081264</td>\n",
              "      <td>0.492415</td>\n",
              "      <td>0.500667</td>\n",
              "      <td>-0.624771</td>\n",
              "      <td>-0.041757</td>\n",
              "      <td>-0.461577</td>\n",
              "      <td>-0.176152</td>\n",
              "      <td>-0.334634</td>\n",
              "      <td>0.206523</td>\n",
              "      <td>-0.153721</td>\n",
              "      <td>-0.136153</td>\n",
              "      <td>-0.162112</td>\n",
              "    </tr>\n",
              "  </tbody>\n",
              "</table>\n",
              "</div>"
            ],
            "text/plain": [
              "   Ones  AreaCode  INT_SQFT  ...   REG_FEE    COMMIS  SALES_PRICE\n",
              "0     1  0.018003 -0.188889  ...  0.002950  0.007290    -0.153105\n",
              "1     1 -0.315330  0.302356  ...  0.419410  0.332871     0.503216\n",
              "2     1 -0.481997 -0.236413  ...  0.047972 -0.099340     0.105336\n",
              "3     1  0.518003  0.236824  ... -0.022993 -0.130078    -0.058719\n",
              "4     1  0.018003 -0.077834  ... -0.153721 -0.136153    -0.162112\n",
              "\n",
              "[5 rows x 18 columns]"
            ]
          },
          "metadata": {},
          "execution_count": 9
        }
      ]
    },
    {
      "cell_type": "code",
      "metadata": {
        "colab": {
          "base_uri": "https://localhost:8080/"
        },
        "id": "_FStPH22U0bR",
        "outputId": "d2571dd9-03d0-43e1-ea05-ac32bb5f3918"
      },
      "source": [
        "cols = data.shape[1] # gives you total column size. In our case raw data has  17 columns \n",
        "print(cols)\n",
        "x = data.iloc[:, 0:cols-1] # scan all rows and columns until 16 (contains all inputs params) \n",
        "y = data.iloc[:, cols-1:cols] #scan all rows and column 17 (contains output price)"
      ],
      "execution_count": 10,
      "outputs": [
        {
          "output_type": "stream",
          "name": "stdout",
          "text": [
            "18\n"
          ]
        }
      ]
    },
    {
      "cell_type": "code",
      "metadata": {
        "colab": {
          "base_uri": "https://localhost:8080/"
        },
        "id": "mQWDgnmbU774",
        "outputId": "e2de5141-d72b-4e95-a923-0e88108c589a"
      },
      "source": [
        "x.shape, y.shape"
      ],
      "execution_count": 11,
      "outputs": [
        {
          "output_type": "execute_result",
          "data": {
            "text/plain": [
              "((5999, 17), (5999, 1))"
            ]
          },
          "metadata": {},
          "execution_count": 11
        }
      ]
    },
    {
      "cell_type": "code",
      "metadata": {
        "colab": {
          "base_uri": "https://localhost:8080/"
        },
        "id": "Jq3GRhleV-SA",
        "outputId": "c1069b1f-67f2-4af1-fcfd-277e7a6bac0e"
      },
      "source": [
        "print(x) # all input data in x\n",
        "print(y) # output price in y"
      ],
      "execution_count": 12,
      "outputs": [
        {
          "output_type": "stream",
          "name": "stdout",
          "text": [
            "      Ones  AreaCode  INT_SQFT  ...  QS_BEDROOM   REG_FEE    COMMIS\n",
            "0        1  0.018003 -0.188889  ...    0.473190  0.002950  0.007290\n",
            "1        1 -0.315330  0.302356  ...   -0.326810  0.419410  0.332871\n",
            "2        1 -0.481997 -0.236413  ...   -0.426810  0.047972 -0.099340\n",
            "3        1  0.518003  0.236824  ...    0.039857 -0.022993 -0.130078\n",
            "4        1  0.018003 -0.077834  ...    0.206523 -0.153721 -0.136153\n",
            "...    ...       ...       ...  ...         ...       ...       ...\n",
            "5994     1 -0.315330  0.225818  ...   -0.026810  0.403396  0.562416\n",
            "5995     1 -0.148664 -0.162376  ...    0.206523 -0.123196  0.024428\n",
            "5996     1  0.018003 -0.255423  ...   -0.060143 -0.072004 -0.101859\n",
            "5997     1 -0.148664 -0.268929  ...    0.506523 -0.144238 -0.130638\n",
            "5998     1 -0.315330  0.179795  ...    0.173190  0.420102  0.341773\n",
            "\n",
            "[5999 rows x 17 columns]\n",
            "      SALES_PRICE\n",
            "0       -0.153105\n",
            "1        0.503216\n",
            "2        0.105336\n",
            "3       -0.058719\n",
            "4       -0.162112\n",
            "...           ...\n",
            "5994     0.512926\n",
            "5995    -0.032840\n",
            "5996    -0.204644\n",
            "5997    -0.149538\n",
            "5998     0.449435\n",
            "\n",
            "[5999 rows x 1 columns]\n"
          ]
        }
      ]
    },
    {
      "cell_type": "code",
      "metadata": {
        "colab": {
          "base_uri": "https://localhost:8080/"
        },
        "id": "sWU17g3X35JC",
        "outputId": "729cba8a-d880-4fd6-ec59-ae5f3317d8c0"
      },
      "source": [
        "# Separate train and test input & output from multivariate train file\n",
        "\n",
        "from sklearn.model_selection import train_test_split #use this lib to split records into train and test and use it for model prediction accuracy. This is a general appraoch followed in ML\n",
        "x_train, x_test, y_train, y_test = train_test_split(x,y,test_size=0.25, random_state=2) # test_size = 0.25 is used to take 25% of overall data for testing. random_state will pick random rows for test and train\n",
        "x_train.shape, x_test.shape, y_train.shape, y_test.shape "
      ],
      "execution_count": 13,
      "outputs": [
        {
          "output_type": "execute_result",
          "data": {
            "text/plain": [
              "((4499, 17), (1500, 17), (4499, 1), (1500, 1))"
            ]
          },
          "metadata": {},
          "execution_count": 13
        }
      ]
    },
    {
      "cell_type": "code",
      "metadata": {
        "id": "4jUBmAZJWPLV"
      },
      "source": [
        "# With all inputs\n",
        "#x = np.matrix(x) # create matrix for all inputs\n",
        "#y = np.matrix(y) # create matrix for prize\n",
        "\n",
        "# With train data  \n",
        "x = np.matrix(x_train) # create matrix for all inputs\n",
        "y = np.matrix(y_train) # create matrix for prize\n",
        "\n",
        "\n",
        "theta_temp = np.zeros((1, 17)) # 1 row and 17 columns (basically input params) and load zeros to beign with.TODO: change hardcoded data with logic to find rows and col size\n",
        "theta = np.matrix(theta_temp)  # create matrix"
      ],
      "execution_count": 14,
      "outputs": []
    },
    {
      "cell_type": "code",
      "metadata": {
        "colab": {
          "base_uri": "https://localhost:8080/"
        },
        "id": "Sg6Bk8f2YON9",
        "outputId": "daafaf75-a649-4e70-8f48-7e177925e4e2"
      },
      "source": [
        "#print(theta)\n",
        "#print(theta.shape)\n",
        "#print(theta.T)\n",
        "x.shape, y.shape, theta.shape, theta.T.shape"
      ],
      "execution_count": 15,
      "outputs": [
        {
          "output_type": "execute_result",
          "data": {
            "text/plain": [
              "((4499, 17), (4499, 1), (1, 17), (17, 1))"
            ]
          },
          "metadata": {},
          "execution_count": 15
        }
      ]
    },
    {
      "cell_type": "code",
      "metadata": {
        "id": "cW_KCVJgZmbx"
      },
      "source": [
        "def computeError(x,y,theta):\n",
        "  inner = np.power(((x*theta.T)-y),2) \n",
        "  return np.sum(inner)/(2 * len(x))"
      ],
      "execution_count": 16,
      "outputs": []
    },
    {
      "cell_type": "code",
      "metadata": {
        "colab": {
          "base_uri": "https://localhost:8080/"
        },
        "id": "tlezoxhyZotv",
        "outputId": "7e643aab-908c-45a7-b9da-8924823430b3"
      },
      "source": [
        "computeError(x,y,theta)"
      ],
      "execution_count": 17,
      "outputs": [
        {
          "output_type": "execute_result",
          "data": {
            "text/plain": [
              "0.014966735368854567"
            ]
          },
          "metadata": {},
          "execution_count": 17
        }
      ]
    },
    {
      "cell_type": "code",
      "metadata": {
        "id": "OqZ2qRRebSck"
      },
      "source": [
        "learn_rate = 1 \n",
        "iters = 600\n",
        "def gradientDescent(x,y,theta,learn_rate,iters):\n",
        "  temp = np.matrix(np.zeros(theta.shape))\n",
        "  parameters = theta.shape[1] \n",
        "\n",
        "  cost = []\n",
        "  for i in range(iters):\n",
        "    #print(x*theta.T)\n",
        "    error = (x * theta.T) -y \n",
        "    #print(\"Printing Error !!!!\")\n",
        "    #print(error) \n",
        "    for j in range(parameters):\n",
        "      #print(\"I am inside j\")\n",
        "      #print(x[:,j])\n",
        "      gradient = np.multiply(error, x[:,j])\n",
        "      #print(gradient)\n",
        "      temp[0,j] = theta[0,j] - ( (learn_rate/len(x)) * np.sum(gradient))\n",
        "      #print(temp[0,j])\n",
        "    \n",
        "    theta = temp\n",
        "    cost_iter = computeError(x,y,theta)\n",
        "    cost.append(cost_iter)\n",
        " \n",
        "  return theta, cost"
      ],
      "execution_count": 18,
      "outputs": []
    },
    {
      "cell_type": "code",
      "metadata": {
        "id": "9k4uSMdubZV7"
      },
      "source": [
        "new_theta,cost = gradientDescent(x,y,theta, learn_rate, iters)"
      ],
      "execution_count": 19,
      "outputs": []
    },
    {
      "cell_type": "code",
      "metadata": {
        "colab": {
          "base_uri": "https://localhost:8080/"
        },
        "id": "erHCOh1jbiAR",
        "outputId": "4dc7f9ed-4448-4e16-cd9e-dcd3d8c0a234"
      },
      "source": [
        "print(new_theta.shape)\n",
        "print(cost)"
      ],
      "execution_count": 20,
      "outputs": [
        {
          "output_type": "stream",
          "name": "stdout",
          "text": [
            "(1, 17)\n",
            "[0.011244259062844016, 0.008708223665909502, 0.006958575191668612, 0.005738772299868832, 0.004879682955578987, 0.00426842404307502, 0.0038288648974992875, 0.0035091994093260307, 0.003273895879241361, 0.0030984112135830776, 0.0029656803616990375, 0.0028637623252046793, 0.002784248864391488, 0.0027211812964455886, 0.0026703086696323805, 0.0026285769598894376, 0.002593775579271872, 0.0025642915853256515, 0.002538937984608522, 0.0025168332381281014, 0.0024973162988170166, 0.0024798864078792466, 0.002464160213487381, 0.00244984105898974, 0.002436696857024849, 0.002424544048213485, 0.002413235892111122, 0.0024026538582124658, 0.0023927012471522437, 0.002383298425528748, 0.0023743792354173343, 0.0023658882646641673, 0.0023577787523608364, 0.0023500109665165092, 0.0023425509355206064, 0.002335369446858481, 0.0023284412494308667, 0.002321744412345571, 0.0023152598050315766, 0.002308970672264769, 0.0023028622841057282, 0.0022969216454824296, 0.002291137253666856, 0.0022854988945247706, 0.0022799974703996413, 0.002274624853995901, 0.002269373763777162, 0.0022642376572818185, 0.002259210639447466, 0.00225428738357511, 0.0022494630629900413, 0.0022447332917950548, 0.0022400940733832333, 0.0022355417555968127, 0.0022310729915969575, 0.0022266847056552504, 0.002222374063197971, 0.0022181384445339103, 0.002213975421779541, 0.0022098827385649412, 0.002205858292162423, 0.0022019001177293403, 0.0021980063743985414, 0.0021941753329857198, 0.0021904053651135183, 0.002186694933578411, 0.0021830425838089695, 0.002179446936283481, 0.002175906679791704, 0.0021724205654400095, 0.0021689874013117766, 0.002165606047705806, 0.002162275412885047, 0.002158994449276191, 0.0021557621500679354, 0.0021525775461620007, 0.002149439703436524, 0.002146347720286265, 0.0021433007254083084, 0.0021402978758056257, 0.002137338354984152, 0.002134421371321859, 0.0021315461565908442, 0.0021287119646156397, 0.00212591807005292, 0.0021231637672794726, 0.0021204483693768143, 0.0021177712072021774, 0.0021151316285367397, 0.0021125289973030303, 0.00210996269284434, 0.0021074321092597824, 0.0021049366547893577, 0.002102475751244006, 0.0021000488334761936, 0.002097655348887068, 0.0020952947569666492, 0.0020929665288639244, 0.0020906701469840298, 0.002088405104610042, 0.0020861709055471386, 0.0020839670637871335, 0.002081793103191622, 0.002079648557192131, 0.0020775329685058515, 0.0020754458888656824, 0.0020733868787634253, 0.0020713555072051147, 0.0020693513514775446, 0.0020673739969251687, 0.002065423036736609, 0.002063498071740105, 0.002061598710207289, 0.0020597245676647158, 0.0020578752667126683, 0.0020560504368507602, 0.002054249714309928, 0.0020524727418904337, 0.0020507191688055285, 0.0020489886505304614, 0.002047280848656547, 0.0020455954307500167, 0.002043932070215418, 0.0020422904461633307, 0.002040670243282192, 0.0020390711517140414, 0.002037492866933997, 0.002035935089633311, 0.002034397525605837, 0.0020328798856377736, 0.0020313818854005438, 0.0020299032453466887, 0.0020284436906086527, 0.002027002950900351, 0.0020255807604214193, 0.0020241768577640355, 0.0020227909858222337, 0.0020214228917036126, 0.002020072326643358, 0.0020187390459205, 0.0020174228087763302, 0.0020161233783349045, 0.002014840521525567, 0.002013574009007425, 0.002012323615095718, 0.0020110891176900155, 0.00200987029820419, 0.002008666941498112, 0.002007478835811007, 0.0020063057726964367, 0.0020051475469588403, 0.002004003956591604, 0.0020028748027166045, 0.002001759889525188, 0.0020006590242205363, 0.001999572016961395, 0.001998498680807107, 0.0019974388316639203, 0.001996392288232548, 0.001995358871956923, 0.001994338406974124, 0.001993330720065451, 0.0019923356406085987, 0.001991353000530911, 0.001990382634263685, 0.0019894243786974936, 0.0019884780731385, 0.001987543559265736, 0.0019866206810893253, 0.001985709284909614, 0.0019848092192771994, 0.001983920334953818, 0.0019830424848740814, 0.0019821755241080366, 0.00198131930982452, 0.001980473701255297, 0.0019796385596599574, 0.001978813748291555, 0.0019779991323629646, 0.001977194579013938, 0.0019763999572788562, 0.0019756151380551346, 0.0019748399940722914, 0.001974074399861641, 0.0019733182317266083, 0.0019725713677136505, 0.001971833687583757, 0.001971105072784531, 0.0019703854064228275, 0.0019696745732379352, 0.001968972459575292, 0.001968278953360717, 0.0019675939440751563, 0.0019669173227299095, 0.001966248981842354, 0.0019655888154121296, 0.001964936718897785, 0.001964292589193874, 0.001963656324608491, 0.001963027824841228, 0.0019624069909615596, 0.001961793725387623, 0.0019611879318654074, 0.0019605895154483255, 0.001959998382477169, 0.0019594144405604337, 0.001958837598555006, 0.0019582677665472077, 0.001957704855834182, 0.0019571487789056263, 0.001956599449425845, 0.0019560567822161376, 0.001955520693237492, 0.0019549910995735956, 0.001954467919414146, 0.001953951072038457, 0.0019534404777993538, 0.0019529360581073485, 0.0019524377354151043, 0.0019519454332021513, 0.001951459075959887, 0.0019509785891768207, 0.0019505038993240808, 0.0019500349338411674, 0.001949571621121949, 0.0019491138905008947, 0.0019486616722395435, 0.0019482148975131974, 0.0019477734983978413, 0.001947337407857281, 0.0019469065597304928, 0.0019464808887191872, 0.0019460603303755755, 0.0019456448210903364, 0.0019452342980807854, 0.0019448286993792305, 0.0019444279638215244, 0.001944032031035795, 0.0019436408414313657, 0.001943254336187848, 0.0019428724572444105, 0.0019424951472892236, 0.0019421223497490645, 0.001941754008779094, 0.0019413900692527933, 0.001941030476752054, 0.0019406751775574334, 0.0019403241186385532, 0.0019399772476446525, 0.0019396345128952883, 0.0019392958633711766, 0.0019389612487051772, 0.0019386306191734178, 0.0019383039256865514, 0.0019379811197811508, 0.0019376621536112309, 0.0019373469799399041, 0.001937035552131157, 0.0019367278241417545, 0.0019364237505132664, 0.0019361232863642087, 0.0019358263873823106, 0.0019355330098168875, 0.0019352431104713366, 0.0019349566466957378, 0.0019346735763795633, 0.0019343938579445012, 0.001934117450337378, 0.0019338443130231871, 0.0019335744059782217, 0.001933307689683304, 0.0019330441251171162, 0.001932783673749625, 0.0019325262975356055, 0.0019322719589082527, 0.0019320206207728936, 0.0019317722465007792, 0.0019315267999229747, 0.0019312842453243296, 0.001931044547437542, 0.001930807671437299, 0.0019305735829345042, 0.0019303422479705892, 0.0019301136330119005, 0.0019298877049441694, 0.0019296644310670577, 0.0019294437790887812, 0.0019292257171208069, 0.001929010213672627, 0.0019287972376466028, 0.0019285867583328819, 0.001928378745404387, 0.001928173168911871, 0.001927969999279043, 0.001927769207297764, 0.0019275707641233013, 0.0019273746412696558, 0.0019271808106049505, 0.001926989244346881, 0.0019267999150582296, 0.0019266127956424405, 0.0019264278593392572, 0.0019262450797204137, 0.001926064430685392, 0.0019258858864572295, 0.0019257094215783888, 0.0019255350109066813, 0.0019253626296112441, 0.0019251922531685751, 0.001925023857358617, 0.001924857418260897, 0.0019246929122507172, 0.0019245303159953979, 0.0019243696064505647, 0.001924210760856497, 0.0019240537567345082, 0.0019238985718833944, 0.0019237451843759138, 0.0019235935725553197, 0.0019234437150319396, 0.0019232955906797976, 0.001923149178633285, 0.0019230044582838693, 0.001922861409276852, 0.0019227200115081665, 0.0019225802451212182, 0.0019224420905037652, 0.0019223055282848456, 0.0019221705393317353, 0.001922037104746955, 0.00192190520586531, 0.0019217748242509743, 0.0019216459416946056, 0.0019215185402105047, 0.0019213926020338094, 0.0019212681096177227, 0.0019211450456307808, 0.001921023392954154, 0.0019209031346789829, 0.0019207842541037524, 0.0019206667347316931, 0.001920550560268223, 0.0019204357146184183, 0.0019203221818845189, 0.0019202099463634641, 0.0019200989925444623, 0.0019199893051065904, 0.001919880868916424, 0.0019197736690257008, 0.0019196676906690093, 0.0019195629192615116, 0.0019194593403966918, 0.0019193569398441386, 0.0019192557035473473, 0.0019191556176215616, 0.0019190566683516311, 0.0019189588421899058, 0.0019188621257541524, 0.0019187665058254962, 0.0019186719693463962, 0.0019185785034186368, 0.0019184860953013506, 0.0019183947324090665, 0.0019183044023097801, 0.0019182150927230506, 0.0019181267915181204, 0.0019180394867120603, 0.001917953166467937, 0.0019178678190930022, 0.0019177834330369112, 0.0019176999968899529, 0.0019176174993813142, 0.0019175359293773595, 0.0019174552758799313, 0.0019173755280246754, 0.0019172966750793882, 0.0019172187064423784, 0.0019171416116408584, 0.0019170653803293484, 0.0019169900022881043, 0.0019169154674215658, 0.00191684176575682, 0.0019167688874420909, 0.0019166968227452416, 0.0019166255620522983, 0.0019165550958659939, 0.001916485414804327, 0.0019164165095991413, 0.001916348371094722, 0.0019162809902464094, 0.001916214358119231, 0.0019161484658865484, 0.0019160833048287263, 0.0019160188663318101, 0.0019159551418862278, 0.0019158921230855053, 0.0019158298016249944, 0.0019157681693006236, 0.0019157072180076573, 0.0019156469397394768, 0.0019155873265863706, 0.0019155283707343452, 0.001915470064463949, 0.0019154124001491066, 0.0019153553702559744, 0.001915298967341807, 0.001915243184053837, 0.001915188013128171, 0.0019151334473886973, 0.001915079479746008, 0.001915026103196336, 0.0019149733108205027, 0.00191492109578288, 0.001914869451330366, 0.00191481837079137, 0.0019147678475748187, 0.0019147178751691605, 0.0019146684471413977, 0.0019146195571361194, 0.0019145711988745515, 0.0019145233661536187, 0.001914476052845015, 0.0019144292528942887, 0.0019143829603199373, 0.0019143371692125156, 0.0019142918737337497, 0.001914247068115671, 0.0019142027466597497, 0.0019141589037360482, 0.0019141155337823825, 0.0019140726313034901, 0.0019140301908702139, 0.0019139882071186924, 0.0019139466747495593, 0.0019139055885271595, 0.0019138649432787651, 0.0019138247338938098, 0.0019137849553231263, 0.0019137456025781973, 0.0019137066707304144, 0.0019136681549103455, 0.0019136300503070115, 0.0019135923521671754, 0.0019135550557946312, 0.001913518156549513, 0.001913481649847605, 0.0019134455311596611, 0.0019134097960107354, 0.001913374439979519, 0.0019133394586976853, 0.001913304847849243, 0.0019132706031699002, 0.0019132367204464302, 0.00191320319551605, 0.0019131700242658064, 0.0019131372026319686, 0.001913104726599424, 0.001913072592201091, 0.00191304079551733, 0.0019130093326753673, 0.0019129781998487218, 0.0019129473932566442, 0.0019129169091635571, 0.0019128867438785036, 0.0019128568937546104, 0.0019128273551885428, 0.0019127981246199804, 0.0019127691985310917, 0.0019127405734460157, 0.0019127122459303527, 0.0019126842125906586, 0.0019126564700739487, 0.0019126290150672028, 0.0019126018442968801, 0.0019125749545284413, 0.001912548342565869, 0.0019125220052512062, 0.0019124959394640868, 0.0019124701421212834, 0.0019124446101762553, 0.0019124193406186998, 0.0019123943304741138, 0.0019123695768033617, 0.0019123450767022405, 0.0019123208273010576, 0.001912296825764214, 0.0019122730692897863, 0.0019122495551091231, 0.0019122262804864335, 0.0019122032427183967, 0.0019121804391337616, 0.0019121578670929613, 0.0019121355239877266, 0.0019121134072407073, 0.001912091514305097, 0.0019120698426642639, 0.0019120483898313815, 0.0019120271533490704, 0.0019120061307890412, 0.0019119853197517396, 0.0019119647178660003, 0.001911944322788703, 0.001911924132204431, 0.0019119041438251366, 0.0019118843553898096, 0.0019118647646641502, 0.0019118453694402446, 0.001911826167536246, 0.0019118071567960598, 0.0019117883350890312, 0.001911769700309636, 0.0019117512503771799, 0.0019117329832354947, 0.0019117148968526444, 0.0019116969892206282, 0.0019116792583550961, 0.0019116617022950592, 0.0019116443191026092, 0.0019116271068626383, 0.0019116100636825631, 0.001911593187692055, 0.0019115764770427687, 0.0019115599299080787, 0.0019115435444828142, 0.0019115273189830022, 0.0019115112516456118, 0.001911495340728301, 0.0019114795845091637, 0.0019114639812864895, 0.001911448529378515, 0.001911433227123183, 0.0019114180728779084, 0.0019114030650193411, 0.001911388201943133, 0.0019113734820637102, 0.001911358903814048, 0.0019113444656454455, 0.0019113301660273027, 0.0019113160034469085, 0.0019113019764092191, 0.001911288083436648, 0.001911274323068856, 0.0019112606938625426, 0.0019112471943912408, 0.0019112338232451151, 0.001911220579030761, 0.0019112074603710068, 0.0019111944659047208, 0.0019111815942866135, 0.001911168844187052, 0.0019111562142918688, 0.0019111437033021775, 0.0019111313099341872, 0.0019111190329190225, 0.0019111068710025458, 0.0019110948229451759, 0.001911082887521717, 0.001911071063521185, 0.001911059349746635, 0.001911047745014996, 0.0019110362481569016, 0.0019110248580165264, 0.0019110135734514242, 0.0019110023933323669, 0.001910991316543186, 0.001910980341980616, 0.0019109694685541393, 0.0019109586951858344, 0.001910948020810225, 0.0019109374443741292, 0.0019109269648365128, 0.0019109165811683458, 0.001910906292352456, 0.0019108960973833896, 0.001910885995267267, 0.0019108759850216491, 0.0019108660656753968, 0.0019108562362685378, 0.0019108464958521327, 0.001910836843488141, 0.001910827278249295, 0.0019108177992189653, 0.0019108084054910402, 0.0019107990961697958, 0.0019107898703697715, 0.0019107807272156507, 0.0019107716658421361, 0.0019107626853938336, 0.0019107537850251311, 0.0019107449639000833, 0.0019107362211922957, 0.0019107275560848126, 0.001910718967770001, 0.0019107104554494437, 0.0019107020183338245, 0.0019106936556428256, 0.0019106853666050144, 0.0019106771504577439, 0.0019106690064470413, 0.0019106609338275114]\n"
          ]
        }
      ]
    },
    {
      "cell_type": "code",
      "metadata": {
        "colab": {
          "base_uri": "https://localhost:8080/"
        },
        "id": "X7Yyww_CbnuF",
        "outputId": "a0ec9fe1-3f71-4837-b22d-b956cf405811"
      },
      "source": [
        "model_price = x * new_theta.T\n",
        "print(model_price)\n",
        "print(model_price.shape)"
      ],
      "execution_count": 21,
      "outputs": [
        {
          "output_type": "stream",
          "name": "stdout",
          "text": [
            "[[-0.1589964 ]\n",
            " [-0.04796496]\n",
            " [-0.02966356]\n",
            " ...\n",
            " [-0.14148152]\n",
            " [-0.10237566]\n",
            " [ 0.26606986]]\n",
            "(4499, 1)\n"
          ]
        }
      ]
    },
    {
      "cell_type": "markdown",
      "metadata": {
        "id": "U1jxyvECcVQ_"
      },
      "source": [
        "*PLOT* BWN COST AND NUMBER OF ITERATIONS"
      ]
    },
    {
      "cell_type": "code",
      "metadata": {
        "colab": {
          "base_uri": "https://localhost:8080/",
          "height": 421
        },
        "id": "J72euoaWcTOH",
        "outputId": "eb360963-514e-4cf7-fb82-bf49c6666f41"
      },
      "source": [
        "fig,ax = plt.subplots(figsize=(20,6))\n",
        "ax.plot(np.arange(iters),cost,'g',label=\"Learning Curve\")\n",
        "ax.legend()\n",
        "ax.set_xlabel('Iteration')\n",
        "ax.set_ylabel('Cost')\n",
        "ax.set_title('Error vs Iterations')"
      ],
      "execution_count": 22,
      "outputs": [
        {
          "output_type": "execute_result",
          "data": {
            "text/plain": [
              "Text(0.5, 1.0, 'Error vs Iterations')"
            ]
          },
          "metadata": {},
          "execution_count": 22
        },
        {
          "output_type": "display_data",
          "data": {
            "image/png": "[encoded data removed]",
            "text/plain": [
              "<Figure size 1440x432 with 1 Axes>"
            ]
          },
          "metadata": {
            "needs_background": "light"
          }
        }
      ]
    },
    {
      "cell_type": "markdown",
      "metadata": {
        "id": "zj0lgbROcm1S"
      },
      "source": [
        "Computation of Error and Accuracy"
      ]
    },
    {
      "cell_type": "code",
      "metadata": {
        "id": "TDgdxlEfpYLy"
      },
      "source": [
        "def calcualteErrorAndAccuracy(modelprice,y):  \n",
        "  #print(modelprice.shape)\n",
        "  #print(y.shape)\n",
        "  #print(\"Printing model price:: {}\".format(model_price))\n",
        "  #print(\"Printing y the actual price:: {}\".format(y))\n",
        "  from sklearn.metrics import mean_absolute_error\n",
        "  Error = mean_absolute_error(modelprice,y) # Check model price as aganist the original price so u will know how much new price is accurate  \n",
        "  Accuracy = 1 - Error\n",
        "  print(\"Printing Error with no rounding {}\".format(Error))\n",
        "  print(\"Error  with format(round((Error*100),2))) :: {}\".format(round((Error*100),2)))\n",
        "  print(\"Accuracy - {}\".format(round((Accuracy*100),2)))\n",
        "  return Accuracy"
      ],
      "execution_count": 23,
      "outputs": []
    },
    {
      "cell_type": "code",
      "metadata": {
        "colab": {
          "base_uri": "https://localhost:8080/"
        },
        "id": "UiO3eBgGcn3S",
        "outputId": "14c827ac-8bd7-4b96-a2b1-98843961c14f"
      },
      "source": [
        "Accuracy = calcualteErrorAndAccuracy(model_price,y)"
      ],
      "execution_count": 24,
      "outputs": [
        {
          "output_type": "stream",
          "name": "stdout",
          "text": [
            "Printing Error with no rounding 0.04972292926984936\n",
            "Error  with format(round((Error*100),2))) :: 4.97\n",
            "Accuracy - 95.03\n"
          ]
        }
      ]
    },
    {
      "cell_type": "code",
      "metadata": {
        "id": "Qa7RMpvHhbeP"
      },
      "source": [
        "def predict(new_theta, accuracy):\n",
        "    #get input from user\n",
        "    size = float(input('Please enter the size of the house in sqft::'))\n",
        "    #size = 1500 #input(\"Please enter the size of the house in sqft::\")\n",
        "\n",
        "    #mean normalize the user data as we have normalized raw data to scale between -1 to 1\n",
        "    size = (size - raw_data.INT_SQFT.mean()) / (raw_data.INT_SQFT.max() - raw_data.INT_SQFT.min())\n",
        "\n",
        "    #apply the model\n",
        "    price = (new_theta[0,0] + new_theta[0,1] * size)\n",
        "\n",
        "    #predicted price i.e reverse normalize so u can show user in the format that he understands. In our case it will be in lakhs\n",
        "    predicted_price = (price * (raw_data.SALES_PRICE.max() - raw_data.SALES_PRICE.min())) + (raw_data.SALES_PRICE.mean())\n",
        "\n",
        "    #calculate the price with max accuracy as we have seen new model price is not 100% accuracy . In our case accuracy is 99.06%\n",
        "    #hence calcuate max accuracy \n",
        "    price_at_max_accuracy = (predicted_price * (1 / accuracy) )\n",
        "    price_range = price_at_max_accuracy - predicted_price\n",
        "\n",
        "    return predicted_price, price_range\n"
      ],
      "execution_count": 25,
      "outputs": []
    },
    {
      "cell_type": "code",
      "metadata": {
        "colab": {
          "base_uri": "https://localhost:8080/"
        },
        "id": "updgiK17hg0H",
        "outputId": "a791ddb8-9064-4ab4-db8c-42e9ba6e3b23"
      },
      "source": [
        "#size = raw_input(\"Enter something!!!\")\n",
        "#print(size)\n",
        "\n",
        "predicted_price, price_range = predict(new_theta, Accuracy)\n",
        "print('Your house cost is ' + str(round(predicted_price * (1 / 100000),2)) + ' Lakhs')\n",
        "print('with a variation in range -  ' + str(round(price_range,2)) + ' Thousands')"
      ],
      "execution_count": 26,
      "outputs": [
        {
          "output_type": "stream",
          "name": "stdout",
          "text": [
            "Please enter the size of the house in sqft::1500\n",
            "Your house cost is 108.19 Lakhs\n",
            "with a variation in range -  566101.13 Thousands\n"
          ]
        }
      ]
    },
    {
      "cell_type": "markdown",
      "metadata": {
        "id": "ZlKOiooHkL6n"
      },
      "source": [
        "LOAD TEST DATA"
      ]
    },
    {
      "cell_type": "code",
      "metadata": {
        "colab": {
          "base_uri": "https://localhost:8080/",
          "height": 223
        },
        "id": "Sf1wv9YGkfZJ",
        "outputId": "6b78ab99-15a8-4c2b-a6c5-b778a5ca3035"
      },
      "source": [
        "test_path = '/gdrive/My Drive/Online_ML : Aug 2021/Assignments/data/'\n",
        "test_raw_data = pd.read_csv(path+'chennai_house_multivariate_test.csv');\n",
        "test_raw_data.head()"
      ],
      "execution_count": 27,
      "outputs": [
        {
          "output_type": "execute_result",
          "data": {
            "text/html": [
              "<div>\n",
              "<style scoped>\n",
              "    .dataframe tbody tr th:only-of-type {\n",
              "        vertical-align: middle;\n",
              "    }\n",
              "\n",
              "    .dataframe tbody tr th {\n",
              "        vertical-align: top;\n",
              "    }\n",
              "\n",
              "    .dataframe thead th {\n",
              "        text-align: right;\n",
              "    }\n",
              "</style>\n",
              "<table border=\"1\" class=\"dataframe\">\n",
              "  <thead>\n",
              "    <tr style=\"text-align: right;\">\n",
              "      <th></th>\n",
              "      <th>AreaCode</th>\n",
              "      <th>INT_SQFT</th>\n",
              "      <th>DIST_MAINROAD</th>\n",
              "      <th>N_BEDROOM</th>\n",
              "      <th>N_BATHROOM</th>\n",
              "      <th>OTHER_ROOMS</th>\n",
              "      <th>PARK_FACILITY</th>\n",
              "      <th>BUILDINGTYPE</th>\n",
              "      <th>UTILITY_AVAIL</th>\n",
              "      <th>STREET</th>\n",
              "      <th>MZZONE</th>\n",
              "      <th>QS_ROOMS</th>\n",
              "      <th>QS_BATHROOM</th>\n",
              "      <th>QS_BEDROOM</th>\n",
              "      <th>REG_FEE</th>\n",
              "      <th>COMMIS</th>\n",
              "      <th>SALES_PRICE</th>\n",
              "    </tr>\n",
              "  </thead>\n",
              "  <tbody>\n",
              "    <tr>\n",
              "      <th>0</th>\n",
              "      <td>5</td>\n",
              "      <td>2497</td>\n",
              "      <td>197</td>\n",
              "      <td>4</td>\n",
              "      <td>2</td>\n",
              "      <td>0</td>\n",
              "      <td>1</td>\n",
              "      <td>3</td>\n",
              "      <td>1</td>\n",
              "      <td>1</td>\n",
              "      <td>5</td>\n",
              "      <td>2.0</td>\n",
              "      <td>2.4</td>\n",
              "      <td>4.7</td>\n",
              "      <td>445401</td>\n",
              "      <td>301723</td>\n",
              "      <td>14367780</td>\n",
              "    </tr>\n",
              "    <tr>\n",
              "      <th>1</th>\n",
              "      <td>4</td>\n",
              "      <td>1265</td>\n",
              "      <td>55</td>\n",
              "      <td>1</td>\n",
              "      <td>1</td>\n",
              "      <td>1</td>\n",
              "      <td>0</td>\n",
              "      <td>2</td>\n",
              "      <td>3</td>\n",
              "      <td>0</td>\n",
              "      <td>5</td>\n",
              "      <td>3.8</td>\n",
              "      <td>3.0</td>\n",
              "      <td>3.3</td>\n",
              "      <td>242471</td>\n",
              "      <td>103916</td>\n",
              "      <td>6927750</td>\n",
              "    </tr>\n",
              "    <tr>\n",
              "      <th>2</th>\n",
              "      <td>2</td>\n",
              "      <td>1769</td>\n",
              "      <td>28</td>\n",
              "      <td>1</td>\n",
              "      <td>1</td>\n",
              "      <td>2</td>\n",
              "      <td>1</td>\n",
              "      <td>3</td>\n",
              "      <td>2</td>\n",
              "      <td>1</td>\n",
              "      <td>6</td>\n",
              "      <td>3.8</td>\n",
              "      <td>3.7</td>\n",
              "      <td>2.1</td>\n",
              "      <td>418558</td>\n",
              "      <td>294541</td>\n",
              "      <td>15502160</td>\n",
              "    </tr>\n",
              "    <tr>\n",
              "      <th>3</th>\n",
              "      <td>6</td>\n",
              "      <td>1902</td>\n",
              "      <td>21</td>\n",
              "      <td>2</td>\n",
              "      <td>1</td>\n",
              "      <td>2</td>\n",
              "      <td>1</td>\n",
              "      <td>3</td>\n",
              "      <td>3</td>\n",
              "      <td>0</td>\n",
              "      <td>4</td>\n",
              "      <td>4.5</td>\n",
              "      <td>2.2</td>\n",
              "      <td>3.6</td>\n",
              "      <td>427193</td>\n",
              "      <td>124024</td>\n",
              "      <td>13780420</td>\n",
              "    </tr>\n",
              "    <tr>\n",
              "      <th>4</th>\n",
              "      <td>5</td>\n",
              "      <td>1895</td>\n",
              "      <td>63</td>\n",
              "      <td>3</td>\n",
              "      <td>2</td>\n",
              "      <td>0</td>\n",
              "      <td>0</td>\n",
              "      <td>1</td>\n",
              "      <td>3</td>\n",
              "      <td>1</td>\n",
              "      <td>6</td>\n",
              "      <td>3.5</td>\n",
              "      <td>3.1</td>\n",
              "      <td>4.8</td>\n",
              "      <td>551971</td>\n",
              "      <td>340923</td>\n",
              "      <td>16234440</td>\n",
              "    </tr>\n",
              "  </tbody>\n",
              "</table>\n",
              "</div>"
            ],
            "text/plain": [
              "   AreaCode  INT_SQFT  DIST_MAINROAD  ...  REG_FEE  COMMIS  SALES_PRICE\n",
              "0         5      2497            197  ...   445401  301723     14367780\n",
              "1         4      1265             55  ...   242471  103916      6927750\n",
              "2         2      1769             28  ...   418558  294541     15502160\n",
              "3         6      1902             21  ...   427193  124024     13780420\n",
              "4         5      1895             63  ...   551971  340923     16234440\n",
              "\n",
              "[5 rows x 17 columns]"
            ]
          },
          "metadata": {},
          "execution_count": 27
        }
      ]
    },
    {
      "cell_type": "code",
      "metadata": {
        "colab": {
          "base_uri": "https://localhost:8080/"
        },
        "id": "mERzXbjjljVP",
        "outputId": "444a2657-af41-4e83-cba2-edfbd1644e7f"
      },
      "source": [
        "test_raw_data.shape,theta.shape,new_theta.shape"
      ],
      "execution_count": 28,
      "outputs": [
        {
          "output_type": "execute_result",
          "data": {
            "text/plain": [
              "((1104, 17), (1, 17), (1, 17))"
            ]
          },
          "metadata": {},
          "execution_count": 28
        }
      ]
    },
    {
      "cell_type": "markdown",
      "metadata": {
        "id": "_sxIg_-rls4h"
      },
      "source": [
        "USE THETA VALUES FROM ABOVE AND FIND ACCURACY WITH TEST DATA"
      ]
    },
    {
      "cell_type": "code",
      "metadata": {
        "colab": {
          "base_uri": "https://localhost:8080/",
          "height": 223
        },
        "id": "TNUkcv-PlsP0",
        "outputId": "713af717-5f56-43ac-a0a9-b8ef3ed358d5"
      },
      "source": [
        "test_data = (test_raw_data - test_raw_data.mean()) / (test_raw_data.max() - test_raw_data.min())\n",
        "test_data.head()\n",
        "test_data.insert(0,'Ones',1)\n",
        "test_data.head()\n"
      ],
      "execution_count": 29,
      "outputs": [
        {
          "output_type": "execute_result",
          "data": {
            "text/html": [
              "<div>\n",
              "<style scoped>\n",
              "    .dataframe tbody tr th:only-of-type {\n",
              "        vertical-align: middle;\n",
              "    }\n",
              "\n",
              "    .dataframe tbody tr th {\n",
              "        vertical-align: top;\n",
              "    }\n",
              "\n",
              "    .dataframe thead th {\n",
              "        text-align: right;\n",
              "    }\n",
              "</style>\n",
              "<table border=\"1\" class=\"dataframe\">\n",
              "  <thead>\n",
              "    <tr style=\"text-align: right;\">\n",
              "      <th></th>\n",
              "      <th>Ones</th>\n",
              "      <th>AreaCode</th>\n",
              "      <th>INT_SQFT</th>\n",
              "      <th>DIST_MAINROAD</th>\n",
              "      <th>N_BEDROOM</th>\n",
              "      <th>N_BATHROOM</th>\n",
              "      <th>OTHER_ROOMS</th>\n",
              "      <th>PARK_FACILITY</th>\n",
              "      <th>BUILDINGTYPE</th>\n",
              "      <th>UTILITY_AVAIL</th>\n",
              "      <th>STREET</th>\n",
              "      <th>MZZONE</th>\n",
              "      <th>QS_ROOMS</th>\n",
              "      <th>QS_BATHROOM</th>\n",
              "      <th>QS_BEDROOM</th>\n",
              "      <th>REG_FEE</th>\n",
              "      <th>COMMIS</th>\n",
              "      <th>SALES_PRICE</th>\n",
              "    </tr>\n",
              "  </thead>\n",
              "  <tbody>\n",
              "    <tr>\n",
              "      <th>0</th>\n",
              "      <td>1</td>\n",
              "      <td>0.166818</td>\n",
              "      <td>0.556007</td>\n",
              "      <td>0.484982</td>\n",
              "      <td>0.781401</td>\n",
              "      <td>0.793478</td>\n",
              "      <td>-0.420743</td>\n",
              "      <td>0.511775</td>\n",
              "      <td>0.495471</td>\n",
              "      <td>-0.641757</td>\n",
              "      <td>-0.024457</td>\n",
              "      <td>0.127717</td>\n",
              "      <td>-0.486534</td>\n",
              "      <td>-0.375423</td>\n",
              "      <td>0.395622</td>\n",
              "      <td>0.079494</td>\n",
              "      <td>0.339589</td>\n",
              "      <td>0.170484</td>\n",
              "    </tr>\n",
              "    <tr>\n",
              "      <th>1</th>\n",
              "      <td>1</td>\n",
              "      <td>0.000151</td>\n",
              "      <td>-0.059993</td>\n",
              "      <td>-0.225018</td>\n",
              "      <td>-0.218599</td>\n",
              "      <td>-0.206522</td>\n",
              "      <td>0.079257</td>\n",
              "      <td>-0.488225</td>\n",
              "      <td>-0.004529</td>\n",
              "      <td>0.358243</td>\n",
              "      <td>-0.524457</td>\n",
              "      <td>0.127717</td>\n",
              "      <td>0.113466</td>\n",
              "      <td>-0.175423</td>\n",
              "      <td>-0.071045</td>\n",
              "      <td>-0.149723</td>\n",
              "      <td>-0.081773</td>\n",
              "      <td>-0.195542</td>\n",
              "    </tr>\n",
              "    <tr>\n",
              "      <th>2</th>\n",
              "      <td>1</td>\n",
              "      <td>-0.333182</td>\n",
              "      <td>0.192007</td>\n",
              "      <td>-0.360018</td>\n",
              "      <td>-0.218599</td>\n",
              "      <td>-0.206522</td>\n",
              "      <td>0.579257</td>\n",
              "      <td>0.511775</td>\n",
              "      <td>0.495471</td>\n",
              "      <td>-0.141757</td>\n",
              "      <td>-0.024457</td>\n",
              "      <td>0.327717</td>\n",
              "      <td>0.113466</td>\n",
              "      <td>0.057911</td>\n",
              "      <td>-0.471045</td>\n",
              "      <td>0.049174</td>\n",
              "      <td>0.324290</td>\n",
              "      <td>0.226292</td>\n",
              "    </tr>\n",
              "    <tr>\n",
              "      <th>3</th>\n",
              "      <td>1</td>\n",
              "      <td>0.333484</td>\n",
              "      <td>0.258507</td>\n",
              "      <td>-0.395018</td>\n",
              "      <td>0.114734</td>\n",
              "      <td>-0.206522</td>\n",
              "      <td>0.579257</td>\n",
              "      <td>0.511775</td>\n",
              "      <td>0.495471</td>\n",
              "      <td>0.358243</td>\n",
              "      <td>-0.524457</td>\n",
              "      <td>-0.072283</td>\n",
              "      <td>0.346800</td>\n",
              "      <td>-0.442089</td>\n",
              "      <td>0.028955</td>\n",
              "      <td>0.058927</td>\n",
              "      <td>-0.038940</td>\n",
              "      <td>0.141588</td>\n",
              "    </tr>\n",
              "    <tr>\n",
              "      <th>4</th>\n",
              "      <td>1</td>\n",
              "      <td>0.166818</td>\n",
              "      <td>0.255007</td>\n",
              "      <td>-0.185018</td>\n",
              "      <td>0.448068</td>\n",
              "      <td>0.793478</td>\n",
              "      <td>-0.420743</td>\n",
              "      <td>-0.488225</td>\n",
              "      <td>-0.504529</td>\n",
              "      <td>0.358243</td>\n",
              "      <td>-0.024457</td>\n",
              "      <td>0.327717</td>\n",
              "      <td>0.013466</td>\n",
              "      <td>-0.142089</td>\n",
              "      <td>0.428955</td>\n",
              "      <td>0.199868</td>\n",
              "      <td>0.423092</td>\n",
              "      <td>0.262318</td>\n",
              "    </tr>\n",
              "  </tbody>\n",
              "</table>\n",
              "</div>"
            ],
            "text/plain": [
              "   Ones  AreaCode  INT_SQFT  ...   REG_FEE    COMMIS  SALES_PRICE\n",
              "0     1  0.166818  0.556007  ...  0.079494  0.339589     0.170484\n",
              "1     1  0.000151 -0.059993  ... -0.149723 -0.081773    -0.195542\n",
              "2     1 -0.333182  0.192007  ...  0.049174  0.324290     0.226292\n",
              "3     1  0.333484  0.258507  ...  0.058927 -0.038940     0.141588\n",
              "4     1  0.166818  0.255007  ...  0.199868  0.423092     0.262318\n",
              "\n",
              "[5 rows x 18 columns]"
            ]
          },
          "metadata": {},
          "execution_count": 29
        }
      ]
    },
    {
      "cell_type": "code",
      "metadata": {
        "id": "Q4KJnNMXnSH5"
      },
      "source": [
        "test_data_cols = data.shape[1] # gives you total column size. In our case raw data has  17 columns \n",
        "x_test = data.iloc[:, 0:cols-1] # scan all rows and columns until 16 (contains all inputs params) \n",
        "y_test = data.iloc[:, cols-1:cols] #scan all rows and column 17 (contains output price)\n",
        "x_testdata = np.matrix(x) # create matrix for all inputs from test data\n",
        "y_testdata = np.matrix(y) # create matrix for prize from test data"
      ],
      "execution_count": 30,
      "outputs": []
    },
    {
      "cell_type": "markdown",
      "metadata": {
        "id": "VEOCi9RjnoKN"
      },
      "source": [
        "FIND MODEL PRICE, ERROR & ACCURACY WITH TEST DATA & NEW THETA"
      ]
    },
    {
      "cell_type": "code",
      "metadata": {
        "colab": {
          "base_uri": "https://localhost:8080/"
        },
        "id": "P6EhYgrYntiS",
        "outputId": "8c097f77-80c7-4644-febd-8a10eac43db0"
      },
      "source": [
        "#new_theta_from_testdata,cost_testdata = gradientDescent(x_testdata,y_testdata,theta, learn_rate, iters)\n",
        "\n",
        "model_price_with_testdata = x_testdata * new_theta.T   #use test data inputs and new theta computed with train data\n",
        "#print(model_price)\n",
        "\n",
        "calcualteErrorAndAccuracy(model_price_with_testdata,y) # compute accuracy as aganist train data output"
      ],
      "execution_count": 31,
      "outputs": [
        {
          "output_type": "stream",
          "name": "stdout",
          "text": [
            "Printing Error with no rounding 0.04972292926984936\n",
            "Error  with format(round((Error*100),2))) :: 4.97\n",
            "Accuracy - 95.03\n"
          ]
        },
        {
          "output_type": "execute_result",
          "data": {
            "text/plain": [
              "0.9502770707301507"
            ]
          },
          "metadata": {},
          "execution_count": 31
        }
      ]
    },
    {
      "cell_type": "markdown",
      "metadata": {
        "id": "OPdULxf40Fud"
      },
      "source": [
        "**PREDICT PRICE FOR A GIVEN INPUT **"
      ]
    },
    {
      "cell_type": "code",
      "metadata": {
        "colab": {
          "base_uri": "https://localhost:8080/"
        },
        "id": "xw80g4So3ikM",
        "outputId": "0195bf13-7966-426f-c2b8-fa85f8973b68"
      },
      "source": [
        "predicted_price_testdata, price_range_testdata = predict(new_theta, Accuracy)\n",
        "print('Your house cost is ' + str(round(predicted_price_testdata * (1 / 100000),2)) + ' Lakhs')\n",
        "print('with a variation in range -  ' + str(round(price_range_testdata,2)) + ' Thousands')"
      ],
      "execution_count": 32,
      "outputs": [
        {
          "output_type": "stream",
          "name": "stdout",
          "text": [
            "Please enter the size of the house in sqft::1500\n",
            "Your house cost is 108.19 Lakhs\n",
            "with a variation in range -  566101.13 Thousands\n"
          ]
        }
      ]
    }
  ]
}